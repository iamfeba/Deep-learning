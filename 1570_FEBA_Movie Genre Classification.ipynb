{
 "cells": [
  {
   "cell_type": "markdown",
   "id": "28d796b2-ca1f-4e4b-b818-135c77c3cc0c",
   "metadata": {},
   "source": [
    "# <span style = \"color:coral;font-size:40px\">Movie Genere</span>"
   ]
  },
  {
   "cell_type": "markdown",
   "id": "180eb415-f873-41db-95e2-8e4bdca8966b",
   "metadata": {},
   "source": [
    "### Import necessary Libraries"
   ]
  },
  {
   "cell_type": "code",
   "execution_count": 3,
   "id": "b1c4b25c-b9b4-4440-911b-622de198f52a",
   "metadata": {},
   "outputs": [],
   "source": [
    "import numpy as np\n",
    "import pandas as pd\n",
    "import matplotlib.pyplot as plt\n",
    "import seaborn as sns\n",
    "from sklearn.model_selection import train_test_split"
   ]
  },
  {
   "cell_type": "markdown",
   "id": "f6abf105-c1c6-4eb8-bd1b-12f9a3195799",
   "metadata": {},
   "source": [
    "### Read \"Movie Genere\" data set"
   ]
  },
  {
   "cell_type": "code",
   "execution_count": 5,
   "id": "73430f96-4ca2-4d00-a59e-36aada8529fe",
   "metadata": {},
   "outputs": [],
   "source": [
    "df = pd.read_csv('Movie Genere data set.csv')"
   ]
  },
  {
   "cell_type": "code",
   "execution_count": 6,
   "id": "dbbf3d78-903d-4eec-8569-b7aae9a9798e",
   "metadata": {},
   "outputs": [
    {
     "data": {
      "text/html": [
       "<div>\n",
       "<style scoped>\n",
       "    .dataframe tbody tr th:only-of-type {\n",
       "        vertical-align: middle;\n",
       "    }\n",
       "\n",
       "    .dataframe tbody tr th {\n",
       "        vertical-align: top;\n",
       "    }\n",
       "\n",
       "    .dataframe thead th {\n",
       "        text-align: right;\n",
       "    }\n",
       "</style>\n",
       "<table border=\"1\" class=\"dataframe\">\n",
       "  <thead>\n",
       "    <tr style=\"text-align: right;\">\n",
       "      <th></th>\n",
       "      <th>review</th>\n",
       "      <th>sentiment</th>\n",
       "    </tr>\n",
       "  </thead>\n",
       "  <tbody>\n",
       "    <tr>\n",
       "      <th>0</th>\n",
       "      <td>This movie is just crap. Even though the direc...</td>\n",
       "      <td>0</td>\n",
       "    </tr>\n",
       "    <tr>\n",
       "      <th>1</th>\n",
       "      <td>Another detailed work on the subject by Dr Dwi...</td>\n",
       "      <td>1</td>\n",
       "    </tr>\n",
       "    <tr>\n",
       "      <th>2</th>\n",
       "      <td>THE CAT O'NINE TAILS (Il Gatto a Nove Code) &lt;b...</td>\n",
       "      <td>0</td>\n",
       "    </tr>\n",
       "    <tr>\n",
       "      <th>3</th>\n",
       "      <td>Like with any movie genre, there are good gang...</td>\n",
       "      <td>0</td>\n",
       "    </tr>\n",
       "    <tr>\n",
       "      <th>4</th>\n",
       "      <td>I watched it with my mom and we were like...&lt;b...</td>\n",
       "      <td>0</td>\n",
       "    </tr>\n",
       "  </tbody>\n",
       "</table>\n",
       "</div>"
      ],
      "text/plain": [
       "                                              review  sentiment\n",
       "0  This movie is just crap. Even though the direc...          0\n",
       "1  Another detailed work on the subject by Dr Dwi...          1\n",
       "2  THE CAT O'NINE TAILS (Il Gatto a Nove Code) <b...          0\n",
       "3  Like with any movie genre, there are good gang...          0\n",
       "4  I watched it with my mom and we were like...<b...          0"
      ]
     },
     "execution_count": 6,
     "metadata": {},
     "output_type": "execute_result"
    }
   ],
   "source": [
    "df.head()"
   ]
  },
  {
   "cell_type": "markdown",
   "id": "0dc347e9-1872-4060-b346-32b63bcb7071",
   "metadata": {},
   "source": [
    "### Check Info"
   ]
  },
  {
   "cell_type": "code",
   "execution_count": 8,
   "id": "afec1822-cb87-4ca2-8db4-4c1d0b8425d5",
   "metadata": {},
   "outputs": [
    {
     "name": "stdout",
     "output_type": "stream",
     "text": [
      "<class 'pandas.core.frame.DataFrame'>\n",
      "RangeIndex: 49969 entries, 0 to 49968\n",
      "Data columns (total 2 columns):\n",
      " #   Column     Non-Null Count  Dtype \n",
      "---  ------     --------------  ----- \n",
      " 0   review     49969 non-null  object\n",
      " 1   sentiment  49969 non-null  int64 \n",
      "dtypes: int64(1), object(1)\n",
      "memory usage: 780.9+ KB\n"
     ]
    }
   ],
   "source": [
    "df.info()"
   ]
  },
  {
   "cell_type": "markdown",
   "id": "84ce6b37-6e74-45ed-b5c2-644765bc0786",
   "metadata": {},
   "source": [
    "### View Descriptive Stats"
   ]
  },
  {
   "cell_type": "code",
   "execution_count": 10,
   "id": "2c360111-ca02-4af4-941f-c9c4111a649a",
   "metadata": {},
   "outputs": [
    {
     "data": {
      "text/html": [
       "<div>\n",
       "<style scoped>\n",
       "    .dataframe tbody tr th:only-of-type {\n",
       "        vertical-align: middle;\n",
       "    }\n",
       "\n",
       "    .dataframe tbody tr th {\n",
       "        vertical-align: top;\n",
       "    }\n",
       "\n",
       "    .dataframe thead th {\n",
       "        text-align: right;\n",
       "    }\n",
       "</style>\n",
       "<table border=\"1\" class=\"dataframe\">\n",
       "  <thead>\n",
       "    <tr style=\"text-align: right;\">\n",
       "      <th></th>\n",
       "      <th>sentiment</th>\n",
       "    </tr>\n",
       "  </thead>\n",
       "  <tbody>\n",
       "    <tr>\n",
       "      <th>count</th>\n",
       "      <td>49969.000000</td>\n",
       "    </tr>\n",
       "    <tr>\n",
       "      <th>mean</th>\n",
       "      <td>0.499950</td>\n",
       "    </tr>\n",
       "    <tr>\n",
       "      <th>std</th>\n",
       "      <td>0.500005</td>\n",
       "    </tr>\n",
       "    <tr>\n",
       "      <th>min</th>\n",
       "      <td>0.000000</td>\n",
       "    </tr>\n",
       "    <tr>\n",
       "      <th>25%</th>\n",
       "      <td>0.000000</td>\n",
       "    </tr>\n",
       "    <tr>\n",
       "      <th>50%</th>\n",
       "      <td>0.000000</td>\n",
       "    </tr>\n",
       "    <tr>\n",
       "      <th>75%</th>\n",
       "      <td>1.000000</td>\n",
       "    </tr>\n",
       "    <tr>\n",
       "      <th>max</th>\n",
       "      <td>1.000000</td>\n",
       "    </tr>\n",
       "  </tbody>\n",
       "</table>\n",
       "</div>"
      ],
      "text/plain": [
       "          sentiment\n",
       "count  49969.000000\n",
       "mean       0.499950\n",
       "std        0.500005\n",
       "min        0.000000\n",
       "25%        0.000000\n",
       "50%        0.000000\n",
       "75%        1.000000\n",
       "max        1.000000"
      ]
     },
     "execution_count": 10,
     "metadata": {},
     "output_type": "execute_result"
    }
   ],
   "source": [
    "df.describe()"
   ]
  },
  {
   "cell_type": "markdown",
   "id": "25fb3d65-99d2-41a0-8b7f-cf3b50035185",
   "metadata": {},
   "source": [
    "### Check for imbalanced data"
   ]
  },
  {
   "cell_type": "code",
   "execution_count": 12,
   "id": "0008914e-ab95-4d83-8fef-11cfbf012b6c",
   "metadata": {},
   "outputs": [
    {
     "data": {
      "image/png": "[encoded data removed]",
      "text/plain": [
       "<Figure size 500x300 with 1 Axes>"
      ]
     },
     "metadata": {},
     "output_type": "display_data"
    },
    {
     "data": {
      "image/png": "[encoded data removed]",
      "text/plain": [
       "<Figure size 640x480 with 1 Axes>"
      ]
     },
     "metadata": {},
     "output_type": "display_data"
    }
   ],
   "source": [
    "plt.figure(figsize = (5,3))\n",
    "sns.countplot(y = df['sentiment'])\n",
    "plt.show()\n",
    "\n",
    "plt.pie(df['sentiment'].value_counts(), labels = ['sentiment','count'], autopct='%0.2f')\n",
    "plt.show()"
   ]
  },
  {
   "cell_type": "markdown",
   "id": "b2c886f3-a80a-4d92-b51e-a773631241e8",
   "metadata": {},
   "source": [
    "### Create a function to Preprocess the review column"
   ]
  },
  {
   "cell_type": "code",
   "execution_count": 14,
   "id": "66263595-3766-4923-a6ea-211e67488f92",
   "metadata": {},
   "outputs": [],
   "source": [
    "import re\n",
    "from nltk.corpus import stopwords\n",
    "from nltk.stem import WordNetLemmatizer"
   ]
  },
  {
   "cell_type": "code",
   "execution_count": 15,
   "id": "1c393126-ac1d-431b-b3e6-9da508919529",
   "metadata": {},
   "outputs": [],
   "source": [
    "def preprocess(sentence):\n",
    "    text = re.sub(r\"[^a-zA-Z0-9]\",\" \",sentence).split()\n",
    "    words = [x.lower() for x in text if x not in stopwords.words('english')]\n",
    "    lemma = WordNetLemmatizer()\n",
    "    word = [lemma.lemmatize(word,'v') for word in words ]\n",
    "    word = ' '.join(word)\n",
    "    return word"
   ]
  },
  {
   "cell_type": "markdown",
   "id": "5ed5cf41-7d15-4f24-bc50-f9130de2bada",
   "metadata": {},
   "source": [
    "### Print some text after applying the function"
   ]
  },
  {
   "cell_type": "code",
   "execution_count": 17,
   "id": "ee747239-a2b4-4611-93b1-cb5a530e4595",
   "metadata": {},
   "outputs": [
    {
     "name": "stdout",
     "output_type": "stream",
     "text": [
      "This movie is just crap. Even though the directors claim to be part of that oi-culture, it's still a very, very bad directorial debut. The topic itself is very interesting and I accept the bad acting due to the fact, that they are all amateurs and never acted before, but the worst thing about this film are the dialogs and very unexperienced and naive directing. There's no timing at all in that movie. I felt like the directors were so exited to do that movie (it's their first feature), that they actually never really asked themselves, what story they wanna tell. I met Ben (one of the directors) on several occasions and he's a nice and thoughtful guy, but that doesn't make him a director. I think, that \"American History X\" is full of clichÃ©s, but somehow manages to transport a story. \"Oi!Warning\" is full of clichÃ©s, doesn't tell anything new or provocative and (-that's the sad thing about this movie) it's far from any Oi!-Reality.<br /><br />If you wanna see weird but great German films, watch the movies of Michael Haneke, Christoph Schlingensief, Oskar Roehler, Hans Weingartner or Oliver Hirschbiegel:<br /><br />Benny's Video Funny Games Die UnberÃ¼hrbare Mein Letzter Film Das Experiment Das Weisse Rauschen MuxmÃ¤uschenstill ...<br /><br />*** out of ten, because of the topic and the photography\n",
      "\n",
      "Another detailed work on the subject by Dr Dwivedi takes us back in time to pre-partioned Panjab. Dr Dwivedi chose a difficult subject for his movie debut. He has worked on all meticulous details to bring the story to life. The treatment of the subject is very delicate.<br /><br />Even though we have not been to the region during that time, the sets and costumes look real. Unlike most movies made on partition, this one focuses not on the gory details of violence to attract audience, but on its after-effects. The characters come to life. Priyanshu Chatterjee has given an impressive performance. Manoj Bajpai has acted his heart out showing the plight of a guilt-ridden man. The rest of the cast has done a good job too.\n",
      "\n",
      "THE CAT O'NINE TAILS (Il Gatto a Nove Code) <br /><br />Aspect ratio: 2.35:1 (Cromoscope)<br /><br />Sound format: Mono<br /><br />(35mm and 70mm release prints)<br /><br />A blind ex-journalist (Karl Malden) overhears a blackmail plot outside a genetics research laboratory and later teams up with a fellow reporter (James Franciscus) to investigate a series of murders at the lab, unwittingly placing their own loved ones at the mercy of a psychopathic killer.<br /><br />Rushed into production following the unexpected worldwide success of his directorial debut THE BIRD WITH THE CRYSTAL PLUMAGE (1969), Dario Argento conceived THE CAT O'NINE TAILS as a giallo-thriller in much the same vein as its forerunner, toplining celebrated Hollywood actor Karl Malden - fresh from his appearance in PATTON (1969) - and rising star Franciscus (THE VALLEY OF GWANGI). Sadly, the resulting film - which the ads claimed was 'nine times more suspenseful' than \"Bird\" - is a disappointing follow-up, impeccably photographed and stylishly executed, but too plodding and aimless for general consumption.<br /><br />Malden and Franciscus are eminently watchable in sympathetic roles, and cinematographer Enrico Menczer (THE DEAD ARE ALIVE) uses the wide Cromoscope frame to convey the hi-tech world in which Argento's dark-hearted scenario unfolds, but the subplot involving Euro starlet Catherine Spaak (THE LIBERTINE) as Franciscus' romantic interest amounts to little more than unnecessary padding. Highlights include an unforgettable encounter with the black-gloved assassin in a crowded railway station (edited with sleek assurance by cult movie stalwart Franco Fraticelli), and a nocturnal episode in which Malden and Franciscus seek an important clue inside a mouldering tomb and fall prey to the killer's devious machinations. But despite these flashes of brilliance, the film rambles aimlessly from one scene to the next, simmering gently without ever really coming to the boil. It's no surprise that \"Cat\" failed to emulate the runaway success of \"Bird\" when released in 1971.<br /><br />(English version)\n",
      "\n",
      "Like with any movie genre, there are good gangster movies and there are bad gangster movies. If you asked me to name a good gangster movie, I'd have dozens to choose from. If you asked me to name a bad gangster movie, probably the first one to pop up in my mind is one that still has me in a sort of depression of disappointment about a week since I saw the film for the first and I promise you, the last time. That film is \"The General\", unrelated to the 1926 silent film of the same name. This is a very dry, very slow gangster epic that raises questions not about the story (it's more than easy to follow) but about why the filmmakers chose to make this rather flimsy endeavor.<br /><br />Like \"Goodfellas\" (1990) and \"American Gangster\" (2007)Â—two superior mob moviesÂ—\"The General\" is based on real people and true events. The film revolves around an Irish criminal named Martin Cahill (Brendan Gleeson) who started his long chain of crimes stealing food as a teenager and then moving up to robbing museums and houses as an adult. Meanwhile, the police led by an inspector named Kenny (Jon Voight) try desperately and vigorously to prove just one of his crimes and convict (or kill) him.<br /><br />Perhaps because it's a film in the same category as the marvelous \"Goodfellas\" (1990) and the first two \"Godfather\" films, I was expecting too much from \"The General.\" But that may be going too easy on it. This would have been a bad film had I not seen the aforementioned masterpieces before being swamped by boredom in this oater and its far-too-stretched running time of screaming bad scenes. Let's start knocking the film by just looking at the style in which it is presented. For some reason, director John Boorman and cinematographer Seamus Deasy selected to film this movie in black-and-white while its style and presentation are clearly the elements that belong to a full-fledged color film. Now I have nothing against b/w pictures, not even ones made in modern-day times. \"Schindler's List\" (1993) was more than ninety percent filmed in black-and-white and it's a masterpiece. \"The General\", made just five years after \"Schindler's List\" is not. The cinematography is also far too blown out with high lighting keys that seem very distracting and give the movie a very video-game-like quality that I found simply annoying. The filmmakers were obviously going for a realist's documentary-like style, like \"Schindler's List\" did, but they fail by making it seem too much like a documentary and at the same time, too much like a classic-style motion picture. Performances in the film range from passable to poor. Brendan Gleeson and Jon Voight gave decent enthusiasm for their roles, but it seemed to me at times that even they were getting kind of run down by the awful screenplay from which they were quoting. The sound design is also very primitive, probably in an attempt to give it a 40s crime-noir appeal, but that also fails because again, it's made too much like a contemporary picture and seems vastly out of place.<br /><br />But the worst thing that occurs is that there's not oneÂ—not oneÂ—character in the film that I felt any emotions or opinions for. In fact, for every moment of every scene, the only thought going through my head was \"okayÂ…so what?\" Moments that in a better film might come across as shocking or appalling are just dull and time-consuming here. I did not sympathize or hate the Brendan Gleeson character because the way the Cahill character is written is simply flat and dull. Gleeson just plays the common criminal and does not strike out with the impact the real Martin Cahill obviously did. If a character is killed off (as they always are in gangster films), we feel nothing. No remorse, no relief, no surprise, nothing. We just say \"so what?\" And that's all I did during the entire running time of this very flimsy, very poorly-made crime film.\n",
      "\n",
      "I watched it with my mom and we were like...<br /><br />What the hell? We didn't get it at all. I may have this wrong, but a chair had something to do with the death of this woman's father. That movie was terrible! This is not a movie for those who love a good suspense movie. Bad suspense movie! *shakes cane at movie* I'm never seeing it again. And I'm a big fan of lifetime movies, too! They kinda need to quit trying to make movies outta books. It's driving me crazy!!!<br /><br />And Whit was butt-ugly and yet, she loves him more than Hugh, who was a TINY bit nicer-looking.<br /><br />My rating: 1/10\n",
      "\n",
      "This movie is probably one of 3 worst movies made in history. I rented this by chance, without reading reviews, and wow, do I regret it. Really has no plot, doesn't really follow the vampire genre. Just plain god awful. Watching this movie will taint your enthusiasm for vampire movies. I felt like the writer/director/producer went on this drug binge and had hallucinations and tried to recreate it on film. Whole time I wanted the movie to end.. but the ending was even more whacked. <br /><br />If this review can save just one person from watching this crap, I felt my time spent on registration and writing this review was well worth it.\n",
      "\n",
      "this movie is quite bad, aggressive, not played well, not directed well, seems low budget, low quality,emotionaly weak and disconnected. after watching earlier comments, went to see it, but if u try to compare it with apocalypse now, PLATOON, or any others, u'r really off the tracks. this movie looks like a 60's old and purely made film with cast of grown neanderthals, not to mention (or actually do), not paying attention to details like changing rounds, low budget fireworks and all sorts of poorly filmed characteristic. is watchable though, if u'd like to see it as an early development of the movies document.. not to go back!!<br /><br />p.s - afterall, the guys are quite alright.\n",
      "\n",
      "And a perfect film to watch during the holiday season as the winter/Xmas atmosphere that Burton creates for Gotham City is way cool. It's weird that Warner decided to release this as a summer film. It doesn't fit.<br /><br />But what's even weirder, when you consider the content of this film, is that it was aimed at families. An upper-class family throws their mutant baby down the sewer, a socio phobic billionaire dresses up in leather as a flying rodent, a lonely secretary dresses up in leather as a feline and a freak runs for political office. And S&M and bondage are presented in a very perverted way. But Burton got away with it. His visual style in this film is at it's best.<br /><br />This and Batman: Dead End are the only true live-action incarnations of the comic-book character. True, the animated series was the closest to the source material, but compared with Batman Forever and the un-nameable one after that, Batman Returns is the best of the four.<br /><br />Darker and more violent than the first movie, the sense of Gothic pathos reaches a new high. I was quite keen on Michael Keaton as Bruce Wayne (don't even get me started on George Clooney!), he displayed the right balance of weirdo loner and cool crime fighter. Michelle Pfieffer is great as Catwoman (much sexier and more 'realisticly' cat-like), she wears that leather outfit better than Halle Berry. And Danny DeVito was so convincing as the Penguin that his scenes became disturbing to watch. And Christopher Walken is brilliant as the spooky Max Shreck (if you think you recognise Chip Shrek it's none other than a very young Leatherface/Butterfinger).<br /><br />Danny Elfman's score is also even better than it was first time round. His powerful and engaging themes are way better than the dross that followed in the later 2 Schumacher movies. This movie is the Batman phenomenon at its Zenith. Forget the following sequels and stick to the animated series after this. Let's hope that Christopher Nolan and Christian Bale can bring some integrity back to the live action Batman with their movie next year.<br /><br />This DVD was one of the first ever DVDs released by Warner (almost 7 years ago!!!) and as a result there are NO features and the case is a snapper. Pick it up cheap like I did and hope for an SE in the future.\n",
      "\n",
      "I like Noel Coward, the wit. I like Noel Coward, the play write. I like Noel Coward, the composer and singer, but I loathe Noel Coward the actor.<br /><br />To me this is a man who should have stayed firmly behind the scenes, writing his plays and composing his music and making his profound and hilarious observations. He should never have been allowed in front of a camera.<br /><br />Make no mistake, he is one of the top outstanding talents of the 20th century but the man just couldn't act, and his voice...with it's rolling R's and it's overly round tonal quality...well it could quite easily grate cheese in my opinion.<br /><br />This is one of my least favourite offerings from Coward, as he unconvincingly portrays a psychiatrist embarking on an affair with a much younger woman, made worse by the fact that the much younger woman is an old school friend of his much younger wife.<br /><br />Celia Johnson is as much a joy to watch as ever as Cowards wronged wife. It is her performance that saves this film from abject dullness. I suppose her own little fling in Coward's Brief Encounter four years previously qualified her for this role as she must have raised a few eyebrows playing a such a promiscuous woman and this gave her the chance to win back a few fans and gain some lost sympathy.<br /><br />She was such a wonderful actress and you can see why Noel Coward used her so much in many of his productions.<br /><br />However the rest of the film is drab, badly acted, predictable and on the whole boring to almost arse-clenching level.<br /><br />If its Noel Coward you want then take the time to watch In Which We Serve, Blythe Spirit or This Happy Breed instead. Three Noel Coward treasures. With lovely films like these I suppose we can forgive him for this turkey.<br /><br />I have given this four stars purely for the addition of Miss Johnson, but on the whole I'd avoid this one like the plague.\n",
      "\n",
      "\"The Days\" is a typical family drama with a little catch - you must relate to the character's emotions in every way possible in order for you to truly appreciate the show.<br /><br />[Possible Spoilers For Those Who Are Unfamiliar With the Show]<br /><br />The story, obviously, for all the people who has watched the show, is the world of Cooper Day, the middle child of the family. He records his days with his family and hopes to become a rich and famous writer one day because of his observations. His family includes a mother, a father, a perfect sister, and a genius-little-brother. The first episode, which is going to sound a bit stupid since John Scott Shepard has created this situation - both the sister and mother gets pregnant. That's the first situation the writer hits. Then the father quits his job at the law firm. The youngest son gets a panic attack. The middle child gets in a fight with the sister's boyfriend. This is all in a day's work.<br /><br />[/Spoilers]<br /><br />I admire this show. I don't know. It's a bit crappy but I like it. First I thought the camera-work was a ripoff but then I got used it and started to like it. I liked the quiet conversations under a dark light. I liked the intimate feeling of the show. I liked the low-budget style. I liked the acting. I admire the story. Then I find myself wanting a second season of The Days. I slowly became a fan of it as the 6-episode airing on ABC came to an end. It's a really good show and it's nothing like The OC. The two have nothing in common. So I hope fans will stop comparing them.<br /><br />And if you can relate to either Abby, Jack, Natalie, Cooper or even Nate, you'll like this show. A lot.\n",
      "\n"
     ]
    }
   ],
   "source": [
    "for i in range(10):\n",
    "    print(df['review'][i])\n",
    "    print()"
   ]
  },
  {
   "cell_type": "markdown",
   "id": "9521c269-480b-4b21-8a5b-5e08dbafd08f",
   "metadata": {},
   "source": [
    "### Split the dataset into Input (X) & Target (y) variable"
   ]
  },
  {
   "cell_type": "code",
   "execution_count": 19,
   "id": "5dccb58f-ea90-4e88-9938-0e2ce7cc9955",
   "metadata": {},
   "outputs": [],
   "source": [
    "x = df['review']\n",
    "y = df['sentiment']"
   ]
  },
  {
   "cell_type": "code",
   "execution_count": 20,
   "id": "3eae3ab2-c60d-4de7-b54e-d1db34719cfe",
   "metadata": {},
   "outputs": [
    {
     "data": {
      "text/html": [
       "<div>\n",
       "<style scoped>\n",
       "    .dataframe tbody tr th:only-of-type {\n",
       "        vertical-align: middle;\n",
       "    }\n",
       "\n",
       "    .dataframe tbody tr th {\n",
       "        vertical-align: top;\n",
       "    }\n",
       "\n",
       "    .dataframe thead th {\n",
       "        text-align: right;\n",
       "    }\n",
       "</style>\n",
       "<table border=\"1\" class=\"dataframe\">\n",
       "  <thead>\n",
       "    <tr style=\"text-align: right;\">\n",
       "      <th></th>\n",
       "      <th>review</th>\n",
       "      <th>sentiment</th>\n",
       "    </tr>\n",
       "  </thead>\n",
       "  <tbody>\n",
       "    <tr>\n",
       "      <th>0</th>\n",
       "      <td>This movie is just crap. Even though the direc...</td>\n",
       "      <td>0</td>\n",
       "    </tr>\n",
       "    <tr>\n",
       "      <th>1</th>\n",
       "      <td>Another detailed work on the subject by Dr Dwi...</td>\n",
       "      <td>1</td>\n",
       "    </tr>\n",
       "    <tr>\n",
       "      <th>2</th>\n",
       "      <td>THE CAT O'NINE TAILS (Il Gatto a Nove Code) &lt;b...</td>\n",
       "      <td>0</td>\n",
       "    </tr>\n",
       "    <tr>\n",
       "      <th>3</th>\n",
       "      <td>Like with any movie genre, there are good gang...</td>\n",
       "      <td>0</td>\n",
       "    </tr>\n",
       "    <tr>\n",
       "      <th>4</th>\n",
       "      <td>I watched it with my mom and we were like...&lt;b...</td>\n",
       "      <td>0</td>\n",
       "    </tr>\n",
       "    <tr>\n",
       "      <th>...</th>\n",
       "      <td>...</td>\n",
       "      <td>...</td>\n",
       "    </tr>\n",
       "    <tr>\n",
       "      <th>49964</th>\n",
       "      <td>This movie is terrible. It's about some no bra...</td>\n",
       "      <td>0</td>\n",
       "    </tr>\n",
       "    <tr>\n",
       "      <th>49965</th>\n",
       "      <td>Well, what was fun... except for the fun part....</td>\n",
       "      <td>0</td>\n",
       "    </tr>\n",
       "    <tr>\n",
       "      <th>49966</th>\n",
       "      <td>By the time this film was released I had seen ...</td>\n",
       "      <td>0</td>\n",
       "    </tr>\n",
       "    <tr>\n",
       "      <th>49967</th>\n",
       "      <td>Well, if you like pop/punk, punk, ska, and a t...</td>\n",
       "      <td>0</td>\n",
       "    </tr>\n",
       "    <tr>\n",
       "      <th>49968</th>\n",
       "      <td>Where this movie is faithful to Burroughs' vis...</td>\n",
       "      <td>1</td>\n",
       "    </tr>\n",
       "  </tbody>\n",
       "</table>\n",
       "<p>49969 rows × 2 columns</p>\n",
       "</div>"
      ],
      "text/plain": [
       "                                                  review  sentiment\n",
       "0      This movie is just crap. Even though the direc...          0\n",
       "1      Another detailed work on the subject by Dr Dwi...          1\n",
       "2      THE CAT O'NINE TAILS (Il Gatto a Nove Code) <b...          0\n",
       "3      Like with any movie genre, there are good gang...          0\n",
       "4      I watched it with my mom and we were like...<b...          0\n",
       "...                                                  ...        ...\n",
       "49964  This movie is terrible. It's about some no bra...          0\n",
       "49965  Well, what was fun... except for the fun part....          0\n",
       "49966  By the time this film was released I had seen ...          0\n",
       "49967  Well, if you like pop/punk, punk, ska, and a t...          0\n",
       "49968  Where this movie is faithful to Burroughs' vis...          1\n",
       "\n",
       "[49969 rows x 2 columns]"
      ]
     },
     "execution_count": 20,
     "metadata": {},
     "output_type": "execute_result"
    }
   ],
   "source": [
    "df"
   ]
  },
  {
   "cell_type": "code",
   "execution_count": 21,
   "id": "1e995834-0c64-4449-9776-5e7708bf638d",
   "metadata": {},
   "outputs": [],
   "source": [
    "from sklearn.feature_extraction.text import CountVectorizer"
   ]
  },
  {
   "cell_type": "code",
   "execution_count": 22,
   "id": "1f033a0d-eb4f-426d-8a20-fa2964223e78",
   "metadata": {},
   "outputs": [],
   "source": [
    "df = pd.DataFrame(x)"
   ]
  },
  {
   "cell_type": "code",
   "execution_count": 23,
   "id": "c9b63aa8-e7ca-4a9e-bb5d-d52b433b5e8b",
   "metadata": {},
   "outputs": [],
   "source": [
    "vectorizer = CountVectorizer(binary=True, max_features=10000)  # Limit to 10,000 features\n",
    "binary_matrix = vectorizer.fit_transform(df['review'])"
   ]
  },
  {
   "cell_type": "markdown",
   "id": "2fb304e8-3897-4006-b93d-ffde19bc3e34",
   "metadata": {},
   "source": [
    "### Create Keras tokenizer object with 5000 max words"
   ]
  },
  {
   "cell_type": "code",
   "execution_count": 25,
   "id": "b6d2a87d-4056-4150-9b6b-752a90c75db0",
   "metadata": {},
   "outputs": [],
   "source": [
    "from tensorflow.keras.preprocessing.text import Tokenizer\n",
    "from tensorflow.keras.preprocessing.sequence import pad_sequences"
   ]
  },
  {
   "cell_type": "code",
   "execution_count": 26,
   "id": "c26647e7-5330-4d2f-9575-1c41fac0cbce",
   "metadata": {},
   "outputs": [],
   "source": [
    "tokenizer = Tokenizer(num_words=5000)"
   ]
  },
  {
   "cell_type": "markdown",
   "id": "dd275cf5-df2f-4966-835d-628f9bc7e193",
   "metadata": {},
   "source": [
    "### Split the dataset into Training & Testing set"
   ]
  },
  {
   "cell_type": "code",
   "execution_count": 28,
   "id": "fc839eb7-d9bc-44a2-95c9-ef974e3d8a6e",
   "metadata": {},
   "outputs": [],
   "source": [
    "x_train, x_test, y_train, y_test = train_test_split(x,y, test_size = 0.20)"
   ]
  },
  {
   "cell_type": "markdown",
   "id": "eef0f75b-1ac2-4ff8-af08-019de10f811e",
   "metadata": {},
   "source": [
    "### Create keras Sequential Model with LSTM Layers"
   ]
  },
  {
   "cell_type": "code",
   "execution_count": 30,
   "id": "576ace6c-f45a-4c62-9dad-ff5287a58edc",
   "metadata": {},
   "outputs": [],
   "source": [
    "tokenizer.fit_on_texts(x_train)"
   ]
  },
  {
   "cell_type": "code",
   "execution_count": 31,
   "id": "1efff74c-7400-4468-abdb-adfe70c7c04f",
   "metadata": {},
   "outputs": [],
   "source": [
    "vocab_size = len(tokenizer.word_index) + 1"
   ]
  },
  {
   "cell_type": "code",
   "execution_count": 32,
   "id": "9cbef97e-7f7b-4658-9676-2fb2bde0df63",
   "metadata": {},
   "outputs": [],
   "source": [
    "def text_encoding(txt):\n",
    "    # texts_to_sequences Transforms each text in texts to a sequence of integers.\n",
    "    encoded_docs = tokenizer.texts_to_sequences(txt)\n",
    "    \n",
    "    # pad_sequences is used to ensure that all sequences in a list have the same length.\n",
    "    padded_sequence = pad_sequences(encoded_docs, maxlen=128)    \n",
    "       \n",
    "    return padded_sequence"
   ]
  },
  {
   "cell_type": "code",
   "execution_count": 33,
   "id": "457475b4-21cc-41fd-9fe2-496bcacb51d3",
   "metadata": {},
   "outputs": [],
   "source": [
    "x_train = text_encoding(x_train)\n",
    "x_test = text_encoding(x_test)"
   ]
  },
  {
   "cell_type": "code",
   "execution_count": 34,
   "id": "8686d851-d665-405a-8804-071f5fd427dc",
   "metadata": {},
   "outputs": [
    {
     "data": {
      "text/plain": [
       "111771"
      ]
     },
     "execution_count": 34,
     "metadata": {},
     "output_type": "execute_result"
    }
   ],
   "source": [
    "vocab_size"
   ]
  },
  {
   "cell_type": "code",
   "execution_count": 35,
   "id": "0f11eef4-37c6-46ff-aff0-a25eabd666b7",
   "metadata": {},
   "outputs": [],
   "source": [
    "from keras import Sequential\n",
    "from keras import layers"
   ]
  },
  {
   "cell_type": "code",
   "execution_count": 36,
   "id": "42617290-fd44-4b63-8750-9df48359f1e2",
   "metadata": {},
   "outputs": [
    {
     "name": "stdout",
     "output_type": "stream",
     "text": [
      "shape of x_train : (39975, 128)\n",
      "shape of x_test : (9994, 128)\n"
     ]
    }
   ],
   "source": [
    "print(f'shape of x_train : {(x_train.shape)}')\n",
    "print(f'shape of x_test : {(x_test.shape)}')"
   ]
  },
  {
   "cell_type": "code",
   "execution_count": 37,
   "id": "0287401e-da25-4a18-803f-ee15b38418b0",
   "metadata": {},
   "outputs": [
    {
     "name": "stderr",
     "output_type": "stream",
     "text": [
      "C:\\Users\\DELL\\anaconda3\\Lib\\site-packages\\keras\\src\\layers\\core\\embedding.py:90: UserWarning: Argument `input_length` is deprecated. Just remove it.\n",
      "  warnings.warn(\n"
     ]
    }
   ],
   "source": [
    "model = Sequential()\n",
    "model.add(layers.Embedding(vocab_size, 128,input_length = 128))\n",
    "model.add(layers.LSTM(128,  return_sequences=True))\n",
    "model.add(layers.Dropout(0.2))\n",
    "model.add(layers.LSTM(128))\n",
    "model.add(layers.Dense(64, activation = 'relu'))\n",
    "model.add(layers.Dropout(0.2))\n",
    "\n",
    "model.add(layers.Dense(1, activation='sigmoid'))"
   ]
  },
  {
   "cell_type": "markdown",
   "id": "83079b6e-4d7f-4bdb-b53d-da04bca00fe0",
   "metadata": {},
   "source": [
    "### Model Summary"
   ]
  },
  {
   "cell_type": "code",
   "execution_count": 39,
   "id": "340f7d2b-f73a-456b-8b32-51a1a7f65c61",
   "metadata": {},
   "outputs": [
    {
     "data": {
      "text/html": [
       "<pre style=\"white-space:pre;overflow-x:auto;line-height:normal;font-family:Menlo,'DejaVu Sans Mono',consolas,'Courier New',monospace\"><span style=\"font-weight: bold\">Model: \"sequential\"</span>\n",
       "</pre>\n"
      ],
      "text/plain": [
       "\u001b[1mModel: \"sequential\"\u001b[0m\n"
      ]
     },
     "metadata": {},
     "output_type": "display_data"
    },
    {
     "data": {
      "text/html": [
       "<pre style=\"white-space:pre;overflow-x:auto;line-height:normal;font-family:Menlo,'DejaVu Sans Mono',consolas,'Courier New',monospace\">┏━━━━━━━━━━━━━━━━━━━━━━━━━━━━━━━━━━━━━━┳━━━━━━━━━━━━━━━━━━━━━━━━━━━━━┳━━━━━━━━━━━━━━━━━┓\n",
       "┃<span style=\"font-weight: bold\"> Layer (type)                         </span>┃<span style=\"font-weight: bold\"> Output Shape                </span>┃<span style=\"font-weight: bold\">         Param # </span>┃\n",
       "┡━━━━━━━━━━━━━━━━━━━━━━━━━━━━━━━━━━━━━━╇━━━━━━━━━━━━━━━━━━━━━━━━━━━━━╇━━━━━━━━━━━━━━━━━┩\n",
       "│ embedding (<span style=\"color: #0087ff; text-decoration-color: #0087ff\">Embedding</span>)                │ ?                           │     <span style=\"color: #00af00; text-decoration-color: #00af00\">0</span> (unbuilt) │\n",
       "├──────────────────────────────────────┼─────────────────────────────┼─────────────────┤\n",
       "│ lstm (<span style=\"color: #0087ff; text-decoration-color: #0087ff\">LSTM</span>)                          │ ?                           │     <span style=\"color: #00af00; text-decoration-color: #00af00\">0</span> (unbuilt) │\n",
       "├──────────────────────────────────────┼─────────────────────────────┼─────────────────┤\n",
       "│ dropout (<span style=\"color: #0087ff; text-decoration-color: #0087ff\">Dropout</span>)                    │ ?                           │               <span style=\"color: #00af00; text-decoration-color: #00af00\">0</span> │\n",
       "├──────────────────────────────────────┼─────────────────────────────┼─────────────────┤\n",
       "│ lstm_1 (<span style=\"color: #0087ff; text-decoration-color: #0087ff\">LSTM</span>)                        │ ?                           │     <span style=\"color: #00af00; text-decoration-color: #00af00\">0</span> (unbuilt) │\n",
       "├──────────────────────────────────────┼─────────────────────────────┼─────────────────┤\n",
       "│ dense (<span style=\"color: #0087ff; text-decoration-color: #0087ff\">Dense</span>)                        │ ?                           │     <span style=\"color: #00af00; text-decoration-color: #00af00\">0</span> (unbuilt) │\n",
       "├──────────────────────────────────────┼─────────────────────────────┼─────────────────┤\n",
       "│ dropout_1 (<span style=\"color: #0087ff; text-decoration-color: #0087ff\">Dropout</span>)                  │ ?                           │               <span style=\"color: #00af00; text-decoration-color: #00af00\">0</span> │\n",
       "├──────────────────────────────────────┼─────────────────────────────┼─────────────────┤\n",
       "│ dense_1 (<span style=\"color: #0087ff; text-decoration-color: #0087ff\">Dense</span>)                      │ ?                           │     <span style=\"color: #00af00; text-decoration-color: #00af00\">0</span> (unbuilt) │\n",
       "└──────────────────────────────────────┴─────────────────────────────┴─────────────────┘\n",
       "</pre>\n"
      ],
      "text/plain": [
       "┏━━━━━━━━━━━━━━━━━━━━━━━━━━━━━━━━━━━━━━┳━━━━━━━━━━━━━━━━━━━━━━━━━━━━━┳━━━━━━━━━━━━━━━━━┓\n",
       "┃\u001b[1m \u001b[0m\u001b[1mLayer (type)                        \u001b[0m\u001b[1m \u001b[0m┃\u001b[1m \u001b[0m\u001b[1mOutput Shape               \u001b[0m\u001b[1m \u001b[0m┃\u001b[1m \u001b[0m\u001b[1m        Param #\u001b[0m\u001b[1m \u001b[0m┃\n",
       "┡━━━━━━━━━━━━━━━━━━━━━━━━━━━━━━━━━━━━━━╇━━━━━━━━━━━━━━━━━━━━━━━━━━━━━╇━━━━━━━━━━━━━━━━━┩\n",
       "│ embedding (\u001b[38;5;33mEmbedding\u001b[0m)                │ ?                           │     \u001b[38;5;34m0\u001b[0m (unbuilt) │\n",
       "├──────────────────────────────────────┼─────────────────────────────┼─────────────────┤\n",
       "│ lstm (\u001b[38;5;33mLSTM\u001b[0m)                          │ ?                           │     \u001b[38;5;34m0\u001b[0m (unbuilt) │\n",
       "├──────────────────────────────────────┼─────────────────────────────┼─────────────────┤\n",
       "│ dropout (\u001b[38;5;33mDropout\u001b[0m)                    │ ?                           │               \u001b[38;5;34m0\u001b[0m │\n",
       "├──────────────────────────────────────┼─────────────────────────────┼─────────────────┤\n",
       "│ lstm_1 (\u001b[38;5;33mLSTM\u001b[0m)                        │ ?                           │     \u001b[38;5;34m0\u001b[0m (unbuilt) │\n",
       "├──────────────────────────────────────┼─────────────────────────────┼─────────────────┤\n",
       "│ dense (\u001b[38;5;33mDense\u001b[0m)                        │ ?                           │     \u001b[38;5;34m0\u001b[0m (unbuilt) │\n",
       "├──────────────────────────────────────┼─────────────────────────────┼─────────────────┤\n",
       "│ dropout_1 (\u001b[38;5;33mDropout\u001b[0m)                  │ ?                           │               \u001b[38;5;34m0\u001b[0m │\n",
       "├──────────────────────────────────────┼─────────────────────────────┼─────────────────┤\n",
       "│ dense_1 (\u001b[38;5;33mDense\u001b[0m)                      │ ?                           │     \u001b[38;5;34m0\u001b[0m (unbuilt) │\n",
       "└──────────────────────────────────────┴─────────────────────────────┴─────────────────┘\n"
      ]
     },
     "metadata": {},
     "output_type": "display_data"
    },
    {
     "data": {
      "text/html": [
       "<pre style=\"white-space:pre;overflow-x:auto;line-height:normal;font-family:Menlo,'DejaVu Sans Mono',consolas,'Courier New',monospace\"><span style=\"font-weight: bold\"> Total params: </span><span style=\"color: #00af00; text-decoration-color: #00af00\">0</span> (0.00 B)\n",
       "</pre>\n"
      ],
      "text/plain": [
       "\u001b[1m Total params: \u001b[0m\u001b[38;5;34m0\u001b[0m (0.00 B)\n"
      ]
     },
     "metadata": {},
     "output_type": "display_data"
    },
    {
     "data": {
      "text/html": [
       "<pre style=\"white-space:pre;overflow-x:auto;line-height:normal;font-family:Menlo,'DejaVu Sans Mono',consolas,'Courier New',monospace\"><span style=\"font-weight: bold\"> Trainable params: </span><span style=\"color: #00af00; text-decoration-color: #00af00\">0</span> (0.00 B)\n",
       "</pre>\n"
      ],
      "text/plain": [
       "\u001b[1m Trainable params: \u001b[0m\u001b[38;5;34m0\u001b[0m (0.00 B)\n"
      ]
     },
     "metadata": {},
     "output_type": "display_data"
    },
    {
     "data": {
      "text/html": [
       "<pre style=\"white-space:pre;overflow-x:auto;line-height:normal;font-family:Menlo,'DejaVu Sans Mono',consolas,'Courier New',monospace\"><span style=\"font-weight: bold\"> Non-trainable params: </span><span style=\"color: #00af00; text-decoration-color: #00af00\">0</span> (0.00 B)\n",
       "</pre>\n"
      ],
      "text/plain": [
       "\u001b[1m Non-trainable params: \u001b[0m\u001b[38;5;34m0\u001b[0m (0.00 B)\n"
      ]
     },
     "metadata": {},
     "output_type": "display_data"
    }
   ],
   "source": [
    "model.summary()"
   ]
  },
  {
   "cell_type": "markdown",
   "id": "13906447-50dc-4fdd-94a0-ca7143bac5e7",
   "metadata": {},
   "source": [
    "### Compile the Model"
   ]
  },
  {
   "cell_type": "code",
   "execution_count": 41,
   "id": "3f47d2e7-c11e-443c-9ed4-514028fd6afd",
   "metadata": {},
   "outputs": [],
   "source": [
    "model.compile(loss = 'binary_crossentropy', optimizer = 'adam', metrics = ['accuracy'])"
   ]
  },
  {
   "cell_type": "markdown",
   "id": "5d830fcb-cc03-4d38-a1e3-7d355b78f0d8",
   "metadata": {},
   "source": [
    "### Train the model with our training set"
   ]
  },
  {
   "cell_type": "code",
   "execution_count": 43,
   "id": "f47a31f1-041d-457f-8a62-625d40654a2a",
   "metadata": {},
   "outputs": [
    {
     "name": "stdout",
     "output_type": "stream",
     "text": [
      "Epoch 1/5\n",
      "\u001b[1m1000/1000\u001b[0m \u001b[32m━━━━━━━━━━━━━━━━━━━━\u001b[0m\u001b[37m\u001b[0m \u001b[1m495s\u001b[0m 479ms/step - accuracy: 0.7501 - loss: 0.4944 - val_accuracy: 0.8613 - val_loss: 0.3280\n",
      "Epoch 2/5\n",
      "\u001b[1m1000/1000\u001b[0m \u001b[32m━━━━━━━━━━━━━━━━━━━━\u001b[0m\u001b[37m\u001b[0m \u001b[1m496s\u001b[0m 494ms/step - accuracy: 0.8888 - loss: 0.2809 - val_accuracy: 0.8622 - val_loss: 0.3142\n",
      "Epoch 3/5\n",
      "\u001b[1m1000/1000\u001b[0m \u001b[32m━━━━━━━━━━━━━━━━━━━━\u001b[0m\u001b[37m\u001b[0m \u001b[1m426s\u001b[0m 425ms/step - accuracy: 0.9157 - loss: 0.2226 - val_accuracy: 0.8813 - val_loss: 0.2870\n",
      "Epoch 4/5\n",
      "\u001b[1m1000/1000\u001b[0m \u001b[32m━━━━━━━━━━━━━━━━━━━━\u001b[0m\u001b[37m\u001b[0m \u001b[1m367s\u001b[0m 367ms/step - accuracy: 0.9337 - loss: 0.1774 - val_accuracy: 0.8678 - val_loss: 0.3045\n",
      "Epoch 5/5\n",
      "\u001b[1m1000/1000\u001b[0m \u001b[32m━━━━━━━━━━━━━━━━━━━━\u001b[0m\u001b[37m\u001b[0m \u001b[1m351s\u001b[0m 351ms/step - accuracy: 0.9525 - loss: 0.1339 - val_accuracy: 0.8718 - val_loss: 0.3377\n"
     ]
    },
    {
     "data": {
      "text/plain": [
       "<keras.src.callbacks.history.History at 0x1762f0a8830>"
      ]
     },
     "execution_count": 43,
     "metadata": {},
     "output_type": "execute_result"
    }
   ],
   "source": [
    "model.fit(x_train, y_train, epochs=5, validation_split = 0.2)"
   ]
  },
  {
   "cell_type": "markdown",
   "id": "6352a69d-05e1-450f-a176-4455f97f682e",
   "metadata": {},
   "source": [
    "### Make prediction with X_test"
   ]
  },
  {
   "cell_type": "code",
   "execution_count": 45,
   "id": "55f95b9c-f22a-4c54-8bff-520381812ebe",
   "metadata": {},
   "outputs": [
    {
     "name": "stdout",
     "output_type": "stream",
     "text": [
      "\u001b[1m313/313\u001b[0m \u001b[32m━━━━━━━━━━━━━━━━━━━━\u001b[0m\u001b[37m\u001b[0m \u001b[1m30s\u001b[0m 82ms/step\n"
     ]
    }
   ],
   "source": [
    "y_pred = model.predict(x_test)"
   ]
  },
  {
   "cell_type": "code",
   "execution_count": 46,
   "id": "75b6c210-cb99-4b88-ac4e-4f4354691e3f",
   "metadata": {},
   "outputs": [
    {
     "data": {
      "text/plain": [
       "9994"
      ]
     },
     "execution_count": 46,
     "metadata": {},
     "output_type": "execute_result"
    }
   ],
   "source": [
    "len(y_pred)"
   ]
  },
  {
   "cell_type": "code",
   "execution_count": 47,
   "id": "ede31e6e-d35a-4d35-be00-e3097d58d2dc",
   "metadata": {},
   "outputs": [
    {
     "data": {
      "text/plain": [
       "9994"
      ]
     },
     "execution_count": 47,
     "metadata": {},
     "output_type": "execute_result"
    }
   ],
   "source": [
    "len(y_test)"
   ]
  },
  {
   "cell_type": "code",
   "execution_count": 48,
   "id": "efc8a750-bcf6-457d-8aee-fec275034a27",
   "metadata": {},
   "outputs": [],
   "source": [
    "y_pred = [np.argmax(i) for i in y_pred]"
   ]
  },
  {
   "cell_type": "code",
   "execution_count": 49,
   "id": "1fa1ea45-5557-47ec-bfc7-43cee3431ccc",
   "metadata": {},
   "outputs": [
    {
     "data": {
      "text/plain": [
       "0"
      ]
     },
     "execution_count": 49,
     "metadata": {},
     "output_type": "execute_result"
    }
   ],
   "source": [
    "y_pred[0]"
   ]
  },
  {
   "cell_type": "markdown",
   "id": "8e8ef903-ef02-43c3-bfc4-f40c4030dcbb",
   "metadata": {},
   "source": [
    "### Evaluate the model"
   ]
  },
  {
   "cell_type": "code",
   "execution_count": 51,
   "id": "b3041a53-9087-4e74-9b67-b490707f55ac",
   "metadata": {},
   "outputs": [],
   "source": [
    "from sklearn.metrics import confusion_matrix, classification_report, accuracy_score"
   ]
  },
  {
   "cell_type": "markdown",
   "id": "8551e897-dd5e-4180-a071-52c44b6403bf",
   "metadata": {},
   "source": [
    "### Accuracy Score"
   ]
  },
  {
   "cell_type": "code",
   "execution_count": 53,
   "id": "4417484c-43f0-400e-8f4d-5be01b1ec56f",
   "metadata": {},
   "outputs": [
    {
     "data": {
      "text/plain": [
       "0.4898939363618171"
      ]
     },
     "execution_count": 53,
     "metadata": {},
     "output_type": "execute_result"
    }
   ],
   "source": [
    "accuracy_score(y_test, y_pred)"
   ]
  },
  {
   "cell_type": "markdown",
   "id": "c396d1be-96b2-431f-bec6-6f8fced1a88b",
   "metadata": {},
   "source": [
    "### Check Confusion Matrix"
   ]
  },
  {
   "cell_type": "code",
   "execution_count": 55,
   "id": "d28d40b9-490b-46c1-a313-89596fc1fc7a",
   "metadata": {},
   "outputs": [
    {
     "data": {
      "text/plain": [
       "<Axes: >"
      ]
     },
     "execution_count": 55,
     "metadata": {},
     "output_type": "execute_result"
    },
    {
     "data": {
      "image/png": "[encoded data removed]",
      "text/plain": [
       "<Figure size 500x400 with 2 Axes>"
      ]
     },
     "metadata": {},
     "output_type": "display_data"
    }
   ],
   "source": [
    "plt.figure(figsize=(5,4))\n",
    "sns.heatmap(confusion_matrix(y_test,y_pred), annot=True, fmt='d')"
   ]
  },
  {
   "cell_type": "markdown",
   "id": "15363740-0cb3-4dc1-a036-9c40b14a4927",
   "metadata": {},
   "source": [
    "### Print Classification Report"
   ]
  },
  {
   "cell_type": "code",
   "execution_count": 57,
   "id": "d9a28c99-f857-4357-b2de-860f60292f26",
   "metadata": {},
   "outputs": [
    {
     "name": "stdout",
     "output_type": "stream",
     "text": [
      "              precision    recall  f1-score   support\n",
      "\n",
      "           0       0.49      1.00      0.66      4896\n",
      "           1       0.00      0.00      0.00      5098\n",
      "\n",
      "    accuracy                           0.49      9994\n",
      "   macro avg       0.24      0.50      0.33      9994\n",
      "weighted avg       0.24      0.49      0.32      9994\n",
      "\n"
     ]
    },
    {
     "name": "stderr",
     "output_type": "stream",
     "text": [
      "C:\\Users\\DELL\\anaconda3\\Lib\\site-packages\\sklearn\\metrics\\_classification.py:1509: UndefinedMetricWarning: Precision is ill-defined and being set to 0.0 in labels with no predicted samples. Use `zero_division` parameter to control this behavior.\n",
      "  _warn_prf(average, modifier, f\"{metric.capitalize()} is\", len(result))\n",
      "C:\\Users\\DELL\\anaconda3\\Lib\\site-packages\\sklearn\\metrics\\_classification.py:1509: UndefinedMetricWarning: Precision is ill-defined and being set to 0.0 in labels with no predicted samples. Use `zero_division` parameter to control this behavior.\n",
      "  _warn_prf(average, modifier, f\"{metric.capitalize()} is\", len(result))\n",
      "C:\\Users\\DELL\\anaconda3\\Lib\\site-packages\\sklearn\\metrics\\_classification.py:1509: UndefinedMetricWarning: Precision is ill-defined and being set to 0.0 in labels with no predicted samples. Use `zero_division` parameter to control this behavior.\n",
      "  _warn_prf(average, modifier, f\"{metric.capitalize()} is\", len(result))\n"
     ]
    }
   ],
   "source": [
    "print(classification_report(y_test, y_pred))"
   ]
  },
  {
   "cell_type": "markdown",
   "id": "3420932f-3f05-4131-8f4b-27c1402fd6f2",
   "metadata": {},
   "source": [
    "# <span style = \"color:coral;font-size:40px\">Thank You</span>"
   ]
  },
  {
   "cell_type": "markdown",
   "id": "84f80144-3ea6-4d3c-b18d-bd29c31b28c4",
   "metadata": {},
   "source": [
    "***"
   ]
  }
 ],
 "metadata": {
  "kernelspec": {
   "display_name": "Python 3 (ipykernel)",
   "language": "python",
   "name": "python3"
  },
  "language_info": {
   "codemirror_mode": {
    "name": "ipython",
    "version": 3
   },
   "file_extension": ".py",
   "mimetype": "text/x-python",
   "name": "python",
   "nbconvert_exporter": "python",
   "pygments_lexer": "ipython3",
   "version": "3.12.4"
  }
 },
 "nbformat": 4,
 "nbformat_minor": 5
}
